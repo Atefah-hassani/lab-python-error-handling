{
 "cells": [
  {
   "cell_type": "markdown",
   "id": "25d7736c-ba17-4aff-b6bb-66eba20fbf4e",
   "metadata": {},
   "source": [
    "# Lab | Error Handling"
   ]
  },
  {
   "cell_type": "markdown",
   "id": "bc99b386-7508-47a0-bcdb-d969deaf6c8b",
   "metadata": {},
   "source": [
    "## Exercise: Error Handling for Managing Customer Orders\n",
    "\n",
    "The implementation of your code for managing customer orders assumes that the user will always enter a valid input. \n",
    "\n",
    "For example, we could modify the `initialize_inventory` function to include error handling.\n",
    "   - If the user enters an invalid quantity (e.g., a negative value or a non-numeric value), display an error message and ask them to re-enter the quantity for that product.\n",
    "   - Use a try-except block to handle the error and continue prompting the user until a valid quantity is entered.\n",
    "\n",
    "```python\n",
    "# Step 1: Define the function for initializing the inventory with error handling\n",
    "def initialize_inventory(products):\n",
    "    inventory = {}\n",
    "    for product in products:\n",
    "        valid_quantity = False\n",
    "        while not valid_quantity:\n",
    "            try:\n",
    "                quantity = int(input(f\"Enter the quantity of {product}s available: \"))\n",
    "                if quantity < 0:\n",
    "                    raise ValueError(\"Invalid quantity! Please enter a non-negative value.\")\n",
    "                valid_quantity = True\n",
    "            except ValueError as error:\n",
    "                print(f\"Error: {error}\")\n",
    "        inventory[product] = quantity\n",
    "    return inventory\n",
    "\n",
    "# Or, in another way:\n",
    "\n",
    "def initialize_inventory(products):\n",
    "    inventory = {}\n",
    "    for product in products:\n",
    "        valid_input = False\n",
    "        while not valid_input:\n",
    "            try:\n",
    "                quantity = int(input(f\"Enter the quantity of {product}s available: \"))\n",
    "                if quantity >= 0:\n",
    "                    inventory[product] = quantity\n",
    "                    valid_input = True\n",
    "                else:\n",
    "                    print(\"Quantity cannot be negative. Please enter a valid quantity.\")\n",
    "            except ValueError:\n",
    "                print(\"Invalid input. Please enter a valid quantity.\")\n",
    "    return inventory\n",
    "```\n",
    "\n",
    "Let's enhance your code by implementing error handling to handle invalid inputs.\n",
    "\n",
    "Follow the steps below to complete the exercise:\n",
    "\n",
    "2. Modify the `calculate_total_price` function to include error handling.\n",
    "   - If the user enters an invalid price (e.g., a negative value or a non-numeric value), display an error message and ask them to re-enter the price for that product.\n",
    "   - Use a try-except block to handle the error and continue prompting the user until a valid price is entered.\n",
    "\n",
    "3. Modify the `get_customer_orders` function to include error handling.\n",
    "   - If the user enters an invalid number of orders (e.g., a negative value or a non-numeric value), display an error message and ask them to re-enter the number of orders.\n",
    "   - If the user enters an invalid product name (e.g., a product name that is not in the inventory), or that doesn't have stock available, display an error message and ask them to re-enter the product name. *Hint: you will need to pass inventory as a parameter*\n",
    "   - Use a try-except block to handle the error and continue prompting the user until a valid product name is entered.\n",
    "\n",
    "4. Test your code by running the program and deliberately entering invalid quantities and product names. Make sure the error handling mechanism works as expected.\n"
   ]
  },
  {
   "cell_type": "code",
   "execution_count": 1,
   "id": "3d16027a-d545-4b13-93c8-5edfec6c2322",
   "metadata": {},
   "outputs": [],
   "source": [
    "def initialize_inventory(products):\n",
    "    inventory = {}\n",
    "    for product in products:\n",
    "        valid_quantity = False\n",
    "        while not valid_quantity:\n",
    "            try:\n",
    "                quantity = int(input(f\"Enter the quantity of {product}s available: \"))\n",
    "                if quantity < 0:\n",
    "                    raise ValueError(\"Invalid quantity! Please enter a non-negative value.\")\n",
    "                valid_quantity = True\n",
    "            except ValueError as error:\n",
    "                print(f\"Error: {error}\")\n",
    "        inventory[product] = quantity\n",
    "    return inventory"
   ]
  },
  {
   "cell_type": "code",
   "execution_count": 13,
   "id": "ff191d60-8d49-4ecd-a2a6-3b7ff181fbda",
   "metadata": {},
   "outputs": [],
   "source": [
    "def get_customer_orders(inventory):\n",
    "    \"\"\"Get customer orders with error handling for invalid inputs.\"\"\"\n",
    "    while True:\n",
    "        try:\n",
    "            num_orders = int(input(\"Enter the number of customer orders: \"))\n",
    "            if num_orders < 0:\n",
    "                raise ValueError(\"Invalid number! Please enter a non-negative value.\")\n",
    "            break\n",
    "        except ValueError as error:\n",
    "            print(f\"Error: {error}\")\n",
    "\n",
    "    customer_orders = []  #Initialize the list to avoid UnboundLocalError\n",
    "\n",
    "    for _ in range(num_orders):\n",
    "        while True:\n",
    "            product = input(\"Enter the name of a product that a customer wants to order: \").strip().lower()\n",
    "            if product in inventory and inventory[product] > 0:\n",
    "                customer_orders.append(product)\n",
    "                break\n",
    "            else:\n",
    "                print(\"Error: Invalid product name or out of stock. Please enter a valid product.\")\n",
    "\n",
    "    return customer_orders"
   ]
  },
  {
   "cell_type": "code",
   "execution_count": 16,
   "id": "efa7b3f1-29ea-4658-9b5e-e64975b61d5c",
   "metadata": {},
   "outputs": [
    {
     "name": "stdin",
     "output_type": "stream",
     "text": [
      "Enter the quantity of t-shirts available:  1\n",
      "Enter the quantity of mugs available:  1\n",
      "Enter the quantity of hats available:  1\n",
      "Enter the quantity of books available:  00\n",
      "Enter the quantity of keychains available:  1\n",
      "Enter the number of customer orders:  2\n",
      "Enter the name of a product that a customer wants to order:  book\n"
     ]
    },
    {
     "name": "stdout",
     "output_type": "stream",
     "text": [
      "Error: Invalid product name or out of stock. Please enter a valid product.\n"
     ]
    },
    {
     "name": "stdin",
     "output_type": "stream",
     "text": [
      "Enter the name of a product that a customer wants to order:  mug\n",
      "Enter the name of a product that a customer wants to order:  hat\n"
     ]
    },
    {
     "name": "stdout",
     "output_type": "stream",
     "text": [
      "\n",
      "Order Statistics:\n",
      "Total Products Ordered: 2\n",
      "Percentage of Unique Products Ordered: 40.0%\n",
      "\n",
      "Updated Inventory:\n",
      "t-shirt: 1\n",
      "keychain: 1\n"
     ]
    },
    {
     "name": "stdin",
     "output_type": "stream",
     "text": [
      "Enter the price of mug:  5\n",
      "Enter the price of hat:  -1\n"
     ]
    },
    {
     "name": "stdout",
     "output_type": "stream",
     "text": [
      "Error: Invalid price! Please enter a non-negative value.\n"
     ]
    },
    {
     "name": "stdin",
     "output_type": "stream",
     "text": [
      "Enter the price of hat:  10\n"
     ]
    },
    {
     "name": "stdout",
     "output_type": "stream",
     "text": [
      "Total Price: 15.00\n"
     ]
    }
   ],
   "source": [
    "def calculate_total_price(customer_orders):\n",
    "    \"\"\"Calculate total price with error handling for invalid price inputs.\"\"\"\n",
    "    total_price = 0\n",
    "    for product in customer_orders:\n",
    "        while True:\n",
    "            try:\n",
    "                price = float(input(f\"Enter the price of {product}: \"))\n",
    "                if price < 0:\n",
    "                    raise ValueError(\"Invalid price! Please enter a non-negative value.\")\n",
    "                total_price += price\n",
    "                break\n",
    "            except ValueError as error:\n",
    "                print(f\"Error: {error}\")\n",
    "    return total_price\n",
    "\n",
    "\n",
    "def update_inventory(inventory, customer_orders):\n",
    "    \"\"\"Update inventory and remove items that reach zero stock.\"\"\"\n",
    "    inventory = {\n",
    "        product: (quantity - 1 if product in customer_orders else quantity)\n",
    "        for product, quantity in inventory.items()\n",
    "    }\n",
    "    return {product: quantity for product, quantity in inventory.items() if quantity > 0}  # Remove zero-stock items\n",
    "\n",
    "\n",
    "def display_inventory(inventory):\n",
    "    \"\"\"Print the updated inventory.\"\"\"\n",
    "    print(\"\\nUpdated Inventory:\")\n",
    "    for product, quantity in inventory.items():\n",
    "        print(f\"{product}: {quantity}\")\n",
    "\n",
    "\n",
    "def main():\n",
    "    products = [\"t-shirt\", \"mug\", \"hat\", \"book\", \"keychain\"]\n",
    "    inventory = initialize_inventory(products)\n",
    "\n",
    "    customer_orders = get_customer_orders(inventory)\n",
    "\n",
    "    # Calculate order statistics\n",
    "    total_ordered = len(customer_orders)\n",
    "    unique_percentage = (len(set(customer_orders)) / len(products)) * 100\n",
    "\n",
    "    print(\"\\nOrder Statistics:\")\n",
    "    print(f\"Total Products Ordered: {total_ordered}\")\n",
    "    print(f\"Percentage of Unique Products Ordered: {unique_percentage:.1f}%\")\n",
    "\n",
    "    # Update inventory\n",
    "    inventory = update_inventory(inventory, customer_orders)\n",
    "    display_inventory(inventory)\n",
    "\n",
    "    # Calculate total price\n",
    "    total_price = calculate_total_price(customer_orders)\n",
    "    print(f\"Total Price: {total_price:.2f}\")\n",
    "\n",
    "\n",
    "if __name__ == \"__main__\":\n",
    "    main()"
   ]
  },
  {
   "cell_type": "code",
   "execution_count": null,
   "id": "3d7cd198-376a-4f83-85a9-f95a58fd7c61",
   "metadata": {},
   "outputs": [],
   "source": []
  }
 ],
 "metadata": {
  "kernelspec": {
   "display_name": "Python 3 (ipykernel)",
   "language": "python",
   "name": "python3"
  },
  "language_info": {
   "codemirror_mode": {
    "name": "ipython",
    "version": 3
   },
   "file_extension": ".py",
   "mimetype": "text/x-python",
   "name": "python",
   "nbconvert_exporter": "python",
   "pygments_lexer": "ipython3",
   "version": "3.12.7"
  }
 },
 "nbformat": 4,
 "nbformat_minor": 5
}
